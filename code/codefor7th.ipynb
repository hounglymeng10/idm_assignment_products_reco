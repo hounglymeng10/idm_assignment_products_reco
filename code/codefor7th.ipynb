{
 "cells": [
  {
   "cell_type": "code",
   "execution_count": 2,
   "id": "c1543add-7ed8-4a75-af89-ab99be233ee6",
   "metadata": {},
   "outputs": [
    {
     "name": "stdout",
     "output_type": "stream",
     "text": [
      "Libraries imported successfully!\n"
     ]
    }
   ],
   "source": [
    "# Importing libraries\n",
    "import pandas as pd\n",
    "from mlxtend.frequent_patterns import apriori, association_rules\n",
    "\n",
    "# Print confirmation\n",
    "print(\"Libraries imported successfully!\")"
   ]
  },
  {
   "cell_type": "code",
   "execution_count": 3,
   "id": "0d5f29ac-fecc-4190-908a-9492534f17c3",
   "metadata": {},
   "outputs": [
    {
     "name": "stdout",
     "output_type": "stream",
     "text": [
      "Dataset:\n",
      "   Bread  Milk  Diaper  Beer  Coke  Eggs\n",
      "0      1     1       0     0     0     0\n",
      "1      1     0       1     1     0     1\n",
      "2      0     1       1     1     1     0\n",
      "3      1     1       1     1     0     0\n",
      "4      1     1       0     0     1     0\n"
     ]
    }
   ],
   "source": [
    "# Creating the dataset\n",
    "data = {\n",
    "    'Bread': [1, 1, 0, 1, 1],\n",
    "    'Milk': [1, 0, 1, 1, 1],\n",
    "    'Diaper': [0, 1, 1, 1, 0],\n",
    "    'Beer': [0, 1, 1, 1, 0],\n",
    "    'Coke': [0, 0, 1, 0, 1],\n",
    "    'Eggs': [0, 1, 0, 0, 0]\n",
    "}\n",
    "\n",
    "# Convert to DataFrame\n",
    "df = pd.DataFrame(data)\n",
    "print(\"Dataset:\")\n",
    "print(df)"
   ]
  },
  {
   "cell_type": "code",
   "execution_count": 4,
   "id": "13832205-194f-4273-8df9-5b512311ab9b",
   "metadata": {},
   "outputs": [
    {
     "name": "stdout",
     "output_type": "stream",
     "text": [
      "Frequent Itemsets:\n",
      "    support               itemsets\n",
      "0       0.8                (Bread)\n",
      "1       0.8                 (Milk)\n",
      "2       0.6               (Diaper)\n",
      "3       0.6                 (Beer)\n",
      "4       0.4                 (Coke)\n",
      "5       0.6          (Milk, Bread)\n",
      "6       0.4        (Bread, Diaper)\n",
      "7       0.4          (Bread, Beer)\n",
      "8       0.4         (Milk, Diaper)\n",
      "9       0.4           (Milk, Beer)\n",
      "10      0.4           (Milk, Coke)\n",
      "11      0.6         (Beer, Diaper)\n",
      "12      0.4  (Bread, Beer, Diaper)\n",
      "13      0.4   (Milk, Beer, Diaper)\n"
     ]
    },
    {
     "name": "stderr",
     "output_type": "stream",
     "text": [
      "c:\\Users\\ASUS\\.conda\\envs\\apriori_env\\lib\\site-packages\\mlxtend\\frequent_patterns\\fpcommon.py:161: DeprecationWarning: DataFrames with non-bool types result in worse computationalperformance and their support might be discontinued in the future.Please use a DataFrame with bool type\n",
      "  warnings.warn(\n"
     ]
    }
   ],
   "source": [
    "# Applying Apriori to find frequent itemsets\n",
    "frequent_itemsets = apriori(df, min_support=0.4, use_colnames=True)\n",
    "\n",
    "# Display frequent itemsets\n",
    "print(\"Frequent Itemsets:\")\n",
    "print(frequent_itemsets)"
   ]
  },
  {
   "cell_type": "markdown",
   "id": "06039f4e-a383-4dad-94eb-f24bdb79955a",
   "metadata": {},
   "source": [
    "\n",
    "If you are using Jupyter Notebook, you can also install it directly from a notebook cell by using the following command:\n"
   ]
  },
  {
   "cell_type": "code",
   "execution_count": 6,
   "id": "10388ccc-71a8-424b-b1b2-08f159e7ef92",
   "metadata": {},
   "outputs": [
    {
     "name": "stdout",
     "output_type": "stream",
     "text": [
      "Association Rules:\n",
      "        antecedents      consequents  antecedent support  consequent support  \\\n",
      "0            (Milk)          (Bread)                 0.8                 0.8   \n",
      "1           (Bread)           (Milk)                 0.8                 0.8   \n",
      "2          (Diaper)          (Bread)                 0.6                 0.8   \n",
      "3            (Beer)          (Bread)                 0.6                 0.8   \n",
      "4          (Diaper)           (Milk)                 0.6                 0.8   \n",
      "5            (Beer)           (Milk)                 0.6                 0.8   \n",
      "6            (Coke)           (Milk)                 0.4                 0.8   \n",
      "7            (Beer)         (Diaper)                 0.6                 0.6   \n",
      "8          (Diaper)           (Beer)                 0.6                 0.6   \n",
      "9     (Bread, Beer)         (Diaper)                 0.4                 0.6   \n",
      "10  (Bread, Diaper)           (Beer)                 0.4                 0.6   \n",
      "11   (Diaper, Beer)          (Bread)                 0.6                 0.8   \n",
      "12           (Beer)  (Bread, Diaper)                 0.6                 0.4   \n",
      "13         (Diaper)    (Bread, Beer)                 0.6                 0.4   \n",
      "14     (Milk, Beer)         (Diaper)                 0.4                 0.6   \n",
      "15   (Milk, Diaper)           (Beer)                 0.4                 0.6   \n",
      "16   (Diaper, Beer)           (Milk)                 0.6                 0.8   \n",
      "17           (Beer)   (Milk, Diaper)                 0.6                 0.4   \n",
      "18         (Diaper)     (Milk, Beer)                 0.6                 0.4   \n",
      "\n",
      "    support  confidence      lift  representativity  leverage  conviction  \\\n",
      "0       0.6    0.750000  0.937500               1.0     -0.04         0.8   \n",
      "1       0.6    0.750000  0.937500               1.0     -0.04         0.8   \n",
      "2       0.4    0.666667  0.833333               1.0     -0.08         0.6   \n",
      "3       0.4    0.666667  0.833333               1.0     -0.08         0.6   \n",
      "4       0.4    0.666667  0.833333               1.0     -0.08         0.6   \n",
      "5       0.4    0.666667  0.833333               1.0     -0.08         0.6   \n",
      "6       0.4    1.000000  1.250000               1.0      0.08         inf   \n",
      "7       0.6    1.000000  1.666667               1.0      0.24         inf   \n",
      "8       0.6    1.000000  1.666667               1.0      0.24         inf   \n",
      "9       0.4    1.000000  1.666667               1.0      0.16         inf   \n",
      "10      0.4    1.000000  1.666667               1.0      0.16         inf   \n",
      "11      0.4    0.666667  0.833333               1.0     -0.08         0.6   \n",
      "12      0.4    0.666667  1.666667               1.0      0.16         1.8   \n",
      "13      0.4    0.666667  1.666667               1.0      0.16         1.8   \n",
      "14      0.4    1.000000  1.666667               1.0      0.16         inf   \n",
      "15      0.4    1.000000  1.666667               1.0      0.16         inf   \n",
      "16      0.4    0.666667  0.833333               1.0     -0.08         0.6   \n",
      "17      0.4    0.666667  1.666667               1.0      0.16         1.8   \n",
      "18      0.4    0.666667  1.666667               1.0      0.16         1.8   \n",
      "\n",
      "    zhangs_metric   jaccard  certainty  kulczynski  \n",
      "0       -0.250000  0.600000  -0.250000    0.750000  \n",
      "1       -0.250000  0.600000  -0.250000    0.750000  \n",
      "2       -0.333333  0.400000  -0.666667    0.583333  \n",
      "3       -0.333333  0.400000  -0.666667    0.583333  \n",
      "4       -0.333333  0.400000  -0.666667    0.583333  \n",
      "5       -0.333333  0.400000  -0.666667    0.583333  \n",
      "6        0.333333  0.500000   1.000000    0.750000  \n",
      "7        1.000000  1.000000   1.000000    1.000000  \n",
      "8        1.000000  1.000000   1.000000    1.000000  \n",
      "9        0.666667  0.666667   1.000000    0.833333  \n",
      "10       0.666667  0.666667   1.000000    0.833333  \n",
      "11      -0.333333  0.400000  -0.666667    0.583333  \n",
      "12       1.000000  0.666667   0.444444    0.833333  \n",
      "13       1.000000  0.666667   0.444444    0.833333  \n",
      "14       0.666667  0.666667   1.000000    0.833333  \n",
      "15       0.666667  0.666667   1.000000    0.833333  \n",
      "16      -0.333333  0.400000  -0.666667    0.583333  \n",
      "17       1.000000  0.666667   0.444444    0.833333  \n",
      "18       1.000000  0.666667   0.444444    0.833333  \n"
     ]
    }
   ],
   "source": [
    "from mlxtend.frequent_patterns import apriori, association_rules\n",
    "\n",
    "# Assuming frequent_itemsets is already defined using apriori\n",
    "rules = association_rules(frequent_itemsets, metric=\"confidence\", min_threshold=0.6, num_itemsets=None)\n",
    "\n",
    "# Display rules\n",
    "print(\"Association Rules:\")\n",
    "print(rules)"
   ]
  },
  {
   "cell_type": "code",
   "execution_count": null,
   "id": "bd1593d4-ab0d-4c69-901e-debbe850dbd0",
   "metadata": {},
   "outputs": [],
   "source": []
  }
 ],
 "metadata": {
  "kernelspec": {
   "display_name": "apriori_env",
   "language": "python",
   "name": "python3"
  },
  "language_info": {
   "codemirror_mode": {
    "name": "ipython",
    "version": 3
   },
   "file_extension": ".py",
   "mimetype": "text/x-python",
   "name": "python",
   "nbconvert_exporter": "python",
   "pygments_lexer": "ipython3",
   "version": "3.9.20"
  }
 },
 "nbformat": 4,
 "nbformat_minor": 5
}
